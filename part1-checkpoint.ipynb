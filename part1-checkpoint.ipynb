{
 "cells": [
  {
   "cell_type": "markdown",
   "metadata": {},
   "source": [
    "<h2 style=\"background-color: steelblue;\">\n",
    "<center>\n",
    "<font face = \"Comic sans MS\" size =\" 5\">ya gitu la ya</font><br />\n",
    "</center>\n",
    "</h2>"
   ]
  },
  {
   "cell_type": "markdown",
   "metadata": {},
   "source": [
    "<i>preprocessing data bertujuan untuk memangkas waktu komputasi terkait dengan penggunaan algoritma machine learning, selain melakukan transformasi nilai data namun tetap mempertahankan esensi dari informasi yang dikandung oleh data, dan merupakan tahapan pendahuluan dalam melakukan pemodelan.</i>"
   ]
  },
  {
   "cell_type": "markdown",
   "metadata": {},
   "source": [
    "<i>preprocessing data termasuk dalam kategori cleansing data, di mana dalam cleansing data meliputi <u><i>pengisian missing value</i></u>, <u><i>menghaluskan noisy data</i></u>, <u><i>menghilangkan outlier</i></u>, dan <u><i>menghilangkan inkonsistensi data.</i></u>"
   ]
  },
  {
   "cell_type": "markdown",
   "metadata": {},
   "source": [
    "<h2> Transformasi Data </h2>\n",
    "\n",
    "Pandang matriks berukuran $m$ $x$ $n$ berikut,\n",
    "$$\n",
    "\\begin{bmatrix} \n",
    "x_{11} & x_{12} & ... & x_{1n}\\\\\n",
    "x_{21} & x_{22} & ... & x_{2n}\\\\\n",
    ". & . & ... & .\\\\\n",
    ". & . & ... & .\\\\\n",
    ". & . & ... & .\\\\\n",
    "x_{m1} & x_{m2} & ... & x_{mn}\\\\\n",
    "\\end{bmatrix}\n",
    "\\quad\n",
    "$$\n",
    "\n",
    "dapat dipahami bahwa matriks tersebut dapat dipandang sebagai representasi kumpulan objek data, dengan $m$ <u>observasi</u> dan $n$ <u>atribut/variabel/fitur.</u>\n",
    "<br>\n",
    "Transformasi data dapat dilakukan dengan cara:\n",
    "<h3>1. Centering</h3> <br>\n",
    "Setiap objek data diarahkan ke pusat data per masing-masing kolom representasi dari matriks. Kenapa permasing-masing kolom? ya karena masing-masing kolom menandakan nilai dari masing-masing variabel, sehingga penanganan dilakukan permasing-masing kolom. Dengan demikian diperoleh:\n",
    "<center>\n",
    "$X^`$ = $X$ - $\\bar{X}$ ... (1)\n",
    "</center>\n",
    "    \n",
    "dari (1) juga didapatkan besaran-besaran berikut:\n",
    "<ul>    \n",
    "<li>Matriks Scatter</li>\n",
    "yang merupakan jarak antar atribut\n",
    "<center>\n",
    "$scatter$ = $X^{`T}$$X^`$ ... (2)\n",
    "</center>   \n",
    "<li>Matriks Kovarian</li>\n",
    "sama seperti matriks scatter, namun dibagi minus 1 dari jumlah observasi data.\n",
    "<center>    \n",
    "$kovarian$ = $\\frac{X^{`T}X^`}{m-1}$ ... (3)\n",
    "</center>    \n",
    "</ul>   \n",
    "\n",
    "<h3>2. Standarisasi (normalisasi z-score)</h3> <br>\n",
    "setelah dilakukan <u>centering</u> selanjutnya dapat dilakukan pembakuan data dengan cara membagi <u>centering</u> dengan standar deviasi permasing-masing kolom/variabel/atribut/fitur yang bersangkutan, secara ringkas dapat dituliskan sebagai berikut:<br>\n",
    "<center>\n",
    "$X^`$ = $\\frac{X - \\bar{X}}{\\sigma_X}$ ... (4)\n",
    "</center>    \n",
    "\n",
    "bentuk (4) juga dapat dituliskan dengan pasangannya, yaitu <br>\n",
    "<center>\n",
    "$X^`$ = $\\frac{X - X_{min}}{X_{max} - X_{min}}$ ... (5)\n",
    "</center>\n",
    "\n",
    "dengan $X_{max}$ dan $X_{min}$ berturut-turut nilai maksimum dan nilai minimum permasing-masing <u>kolom/variabel/atribut/fitur.</u>\n",
    "\n",
    "<h3>3. Scaling</h3> <br>\n",
    "pada prinsipnya scaling bertujuan agar data yang dimiliki berada dalam rentang nilai tertentu, misalnya sebut kita memiliki data harga rumah dalam skala [0,1] yang bermakna data harga telah ditransformasikan sehingga termuat dalam rentang nilai [0,1].<br> Misalkan kita memiliki nilai batas bawah $(BB)$ dan batas atas $(BA)$ terkait rentang nilai yang kita kehendaki, secara ringkas dapat dituliskan sebagai berikut:<br>\n",
    "\n",
    "<center>\n",
    "$X^`$ = $\\frac{X - X_{min}}{X_{max} - X_{min}}$*$(BA-BB)+BB$ ... (6)\n",
    "</center>\n"
   ]
  },
  {
   "cell_type": "markdown",
   "metadata": {},
   "source": [
    "# Implementasi dengan Python"
   ]
  },
  {
   "cell_type": "markdown",
   "metadata": {},
   "source": [
    "misalkan dimiliki matriks representasi suatu data sebagai berikut:\n",
    "    \n",
    "$$\n",
    "\\begin{bmatrix} \n",
    "9 & 15 & 8\\\\\n",
    "1 & 9 & 10\\\\\n",
    "4 & 3 & 9.5\\\\\n",
    "2 & 5 & 7\\\\\n",
    "\\end{bmatrix}\n",
    "\\quad\n",
    "$$\n",
    "\n",
    "akan diterapkan transformasi yang telah dibahas di atas sebagai berikut:"
   ]
  },
  {
   "cell_type": "code",
   "execution_count": 1,
   "metadata": {},
   "outputs": [],
   "source": [
    "import numpy as apasih\n",
    "\n",
    "x = apasih.matrix([[9,15,8], [1,9,10], [4,3,9.5], [2,5,7]]) #kalo data berupa dataframe ganti dia ke matriksnya numpy"
   ]
  },
  {
   "cell_type": "code",
   "execution_count": 6,
   "metadata": {},
   "outputs": [
    {
     "name": "stdout",
     "output_type": "stream",
     "text": [
      "x_prinsip_centring:  \n",
      " [[ 2.125  8.125  1.125]\n",
      " [-5.875  2.125  3.125]\n",
      " [-2.875 -3.875  2.625]\n",
      " [-4.875 -1.875  0.125]] \n",
      "\n",
      "x_prinsip_standarisasi:  \n",
      " [[ 0.55164962  2.10924855  0.2920498 ]\n",
      " [-1.52514895  0.55164962  0.81124944]\n",
      " [-0.74634949 -1.00594931  0.68144953]\n",
      " [-1.26554913 -0.48674967  0.03244998]] \n",
      "\n",
      "x_prinsip_penskalaan \n",
      " [[0.57142857 1.         0.5       ]\n",
      " [0.         0.57142857 0.64285714]\n",
      " [0.21428571 0.14285714 0.60714286]\n",
      " [0.07142857 0.28571429 0.42857143]] \n",
      "\n"
     ]
    }
   ],
   "source": [
    "x_prinsip_centering = x - x.mean()\n",
    "x_prinsip_standarisasi = (x - x.mean())/x.std()\n",
    "print(\"x_prinsip_centring: \", \"\\n\",x_prinsip_centering, \"\\n\")\n",
    "print(\"x_prinsip_standarisasi: \", \"\\n\",x_prinsip_standarisasi, \"\\n\")\n",
    "#prinsip penskalaan\n",
    "#misalkan diinginkan data berada pada rentang nilai 0 sampai 1 secara inklusi\n",
    "BA = 1; BB = 0\n",
    "x_prinsip_penskalaan = (x - x.min())/(x.max()-x.min())*(BA-BB)+BB\n",
    "print(\"x_prinsip_penskalaan\", \"\\n\",x_prinsip_penskalaan, \"\\n\")"
   ]
  },
  {
   "cell_type": "markdown",
   "metadata": {},
   "source": [
    "dengan demikian telah dimiliki data baru, perlu diperhatikan tidak semua prinsip wajib digunakan, tergantung dari case yang sedang dikerjakan.\n",
    "<p>ya sudah la ya &#128567;</p>\n"
   ]
  },
  {
   "cell_type": "code",
   "execution_count": null,
   "metadata": {},
   "outputs": [],
   "source": []
  }
 ],
 "metadata": {
  "kernelspec": {
   "display_name": "Python 3",
   "language": "python",
   "name": "python3"
  },
  "language_info": {
   "codemirror_mode": {
    "name": "ipython",
    "version": 3
   },
   "file_extension": ".py",
   "mimetype": "text/x-python",
   "name": "python",
   "nbconvert_exporter": "python",
   "pygments_lexer": "ipython3",
   "version": "3.7.6"
  }
 },
 "nbformat": 4,
 "nbformat_minor": 4
}
